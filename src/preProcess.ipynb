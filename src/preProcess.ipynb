{
 "cells": [
  {
   "cell_type": "code",
   "execution_count": 1,
   "metadata": {},
   "outputs": [
    {
     "data": {
      "text/html": [
       "<div>\n",
       "<style scoped>\n",
       "    .dataframe tbody tr th:only-of-type {\n",
       "        vertical-align: middle;\n",
       "    }\n",
       "\n",
       "    .dataframe tbody tr th {\n",
       "        vertical-align: top;\n",
       "    }\n",
       "\n",
       "    .dataframe thead th {\n",
       "        text-align: right;\n",
       "    }\n",
       "</style>\n",
       "<table border=\"1\" class=\"dataframe\">\n",
       "  <thead>\n",
       "    <tr style=\"text-align: right;\">\n",
       "      <th></th>\n",
       "      <th>edit_history_tweet_ids</th>\n",
       "      <th>id</th>\n",
       "      <th>text</th>\n",
       "      <th>label</th>\n",
       "    </tr>\n",
       "  </thead>\n",
       "  <tbody>\n",
       "    <tr>\n",
       "      <th>0</th>\n",
       "      <td>['1576050330114363392']</td>\n",
       "      <td>1576050330114363392</td>\n",
       "      <td>@joicehasselmann Bolsonaro NÃO quer aproveitad...</td>\n",
       "      <td>-1</td>\n",
       "    </tr>\n",
       "    <tr>\n",
       "      <th>1</th>\n",
       "      <td>['1576050330110160901']</td>\n",
       "      <td>1576050330110160901</td>\n",
       "      <td>o bolsonaro é um anjo enviado de deus para nos...</td>\n",
       "      <td>1</td>\n",
       "    </tr>\n",
       "    <tr>\n",
       "      <th>2</th>\n",
       "      <td>['1576050318852640769']</td>\n",
       "      <td>1576050318852640769</td>\n",
       "      <td>@AndradeRNegro2 @Loucosdovalle Bolsonaro é con...</td>\n",
       "      <td>1</td>\n",
       "    </tr>\n",
       "    <tr>\n",
       "      <th>3</th>\n",
       "      <td>['1576050318596399104']</td>\n",
       "      <td>1576050318596399104</td>\n",
       "      <td>@Victorrmsk É a milésima vez que ele fala ao v...</td>\n",
       "      <td>0</td>\n",
       "    </tr>\n",
       "    <tr>\n",
       "      <th>4</th>\n",
       "      <td>['1576050309822287873']</td>\n",
       "      <td>1576050309822287873</td>\n",
       "      <td>@OGloboPolitica Bolsonaro é tão fake, q até o ...</td>\n",
       "      <td>-1</td>\n",
       "    </tr>\n",
       "    <tr>\n",
       "      <th>...</th>\n",
       "      <td>...</td>\n",
       "      <td>...</td>\n",
       "      <td>...</td>\n",
       "      <td>...</td>\n",
       "    </tr>\n",
       "    <tr>\n",
       "      <th>241</th>\n",
       "      <td>['1576039456552853504']</td>\n",
       "      <td>1576039456552853504</td>\n",
       "      <td>a pessoa não tem nem idade pra votar e ainda q...</td>\n",
       "      <td>-1</td>\n",
       "    </tr>\n",
       "    <tr>\n",
       "      <th>242</th>\n",
       "      <td>['1576039448760156161']</td>\n",
       "      <td>1576039448760156161</td>\n",
       "      <td>A corrupção de Lula não causou estrago só no B...</td>\n",
       "      <td>-1</td>\n",
       "    </tr>\n",
       "    <tr>\n",
       "      <th>243</th>\n",
       "      <td>['1576039448093265920']</td>\n",
       "      <td>1576039448093265920</td>\n",
       "      <td>eu n aguento mais essa gnt falando de política...</td>\n",
       "      <td>-1</td>\n",
       "    </tr>\n",
       "    <tr>\n",
       "      <th>244</th>\n",
       "      <td>['1576039446331281409']</td>\n",
       "      <td>1576039446331281409</td>\n",
       "      <td>@Emanuel_Jrz @jairbolsonaro @MariaFdaCabal O B...</td>\n",
       "      <td>1</td>\n",
       "    </tr>\n",
       "    <tr>\n",
       "      <th>245</th>\n",
       "      <td>['1576039441797623808']</td>\n",
       "      <td>1576039441797623808</td>\n",
       "      <td>As loira odonto de CP criticaram minha opinião...</td>\n",
       "      <td>-1</td>\n",
       "    </tr>\n",
       "  </tbody>\n",
       "</table>\n",
       "<p>246 rows × 4 columns</p>\n",
       "</div>"
      ],
      "text/plain": [
       "      edit_history_tweet_ids                   id  \\\n",
       "0    ['1576050330114363392']  1576050330114363392   \n",
       "1    ['1576050330110160901']  1576050330110160901   \n",
       "2    ['1576050318852640769']  1576050318852640769   \n",
       "3    ['1576050318596399104']  1576050318596399104   \n",
       "4    ['1576050309822287873']  1576050309822287873   \n",
       "..                       ...                  ...   \n",
       "241  ['1576039456552853504']  1576039456552853504   \n",
       "242  ['1576039448760156161']  1576039448760156161   \n",
       "243  ['1576039448093265920']  1576039448093265920   \n",
       "244  ['1576039446331281409']  1576039446331281409   \n",
       "245  ['1576039441797623808']  1576039441797623808   \n",
       "\n",
       "                                                  text label  \n",
       "0    @joicehasselmann Bolsonaro NÃO quer aproveitad...    -1  \n",
       "1    o bolsonaro é um anjo enviado de deus para nos...     1  \n",
       "2    @AndradeRNegro2 @Loucosdovalle Bolsonaro é con...     1  \n",
       "3    @Victorrmsk É a milésima vez que ele fala ao v...     0  \n",
       "4    @OGloboPolitica Bolsonaro é tão fake, q até o ...    -1  \n",
       "..                                                 ...   ...  \n",
       "241  a pessoa não tem nem idade pra votar e ainda q...    -1  \n",
       "242  A corrupção de Lula não causou estrago só no B...    -1  \n",
       "243  eu n aguento mais essa gnt falando de política...    -1  \n",
       "244  @Emanuel_Jrz @jairbolsonaro @MariaFdaCabal O B...     1  \n",
       "245  As loira odonto de CP criticaram minha opinião...    -1  \n",
       "\n",
       "[246 rows x 4 columns]"
      ]
     },
     "execution_count": 1,
     "metadata": {},
     "output_type": "execute_result"
    }
   ],
   "source": [
    "import pandas as pd\n",
    "import glob, os\n",
    "\n",
    "df_final = pd.DataFrame()\n",
    "\n",
    "os.chdir(\"G:\\Faculdade\\Projetos\\Twitter policy analysis\\data\")\n",
    "for file in glob.glob(\"*.csv\"):\n",
    "    if(file == \"candidato.csv\" or file == \"concat.csv\"):\n",
    "        continue\n",
    "    df = pd.read_csv(file)\n",
    "    df_final = pd.concat([df_final, df], ignore_index=True)\n",
    "df_final"
   ]
  },
  {
   "cell_type": "code",
   "execution_count": 37,
   "metadata": {},
   "outputs": [],
   "source": [
    "df_final['label'] = df_final['label'].apply(str)"
   ]
  },
  {
   "cell_type": "code",
   "execution_count": 38,
   "metadata": {},
   "outputs": [
    {
     "data": {
      "text/plain": [
       "-1    97\n",
       "0     82\n",
       "1     60\n",
       "r      7\n",
       "Name: label, dtype: int64"
      ]
     },
     "execution_count": 38,
     "metadata": {},
     "output_type": "execute_result"
    }
   ],
   "source": [
    "df_final['label'].value_counts()"
   ]
  },
  {
   "cell_type": "code",
   "execution_count": 39,
   "metadata": {},
   "outputs": [
    {
     "data": {
      "text/html": [
       "<div>\n",
       "<style scoped>\n",
       "    .dataframe tbody tr th:only-of-type {\n",
       "        vertical-align: middle;\n",
       "    }\n",
       "\n",
       "    .dataframe tbody tr th {\n",
       "        vertical-align: top;\n",
       "    }\n",
       "\n",
       "    .dataframe thead th {\n",
       "        text-align: right;\n",
       "    }\n",
       "</style>\n",
       "<table border=\"1\" class=\"dataframe\">\n",
       "  <thead>\n",
       "    <tr style=\"text-align: right;\">\n",
       "      <th></th>\n",
       "      <th>edit_history_tweet_ids</th>\n",
       "      <th>id</th>\n",
       "      <th>text</th>\n",
       "      <th>label</th>\n",
       "    </tr>\n",
       "  </thead>\n",
       "  <tbody>\n",
       "    <tr>\n",
       "      <th>0</th>\n",
       "      <td>['1576050330114363392']</td>\n",
       "      <td>1576050330114363392</td>\n",
       "      <td>@joicehasselmann Bolsonaro NÃO quer aproveitad...</td>\n",
       "      <td>-1</td>\n",
       "    </tr>\n",
       "    <tr>\n",
       "      <th>1</th>\n",
       "      <td>['1576050330110160901']</td>\n",
       "      <td>1576050330110160901</td>\n",
       "      <td>o bolsonaro é um anjo enviado de deus para nos...</td>\n",
       "      <td>1</td>\n",
       "    </tr>\n",
       "    <tr>\n",
       "      <th>2</th>\n",
       "      <td>['1576050318852640769']</td>\n",
       "      <td>1576050318852640769</td>\n",
       "      <td>@AndradeRNegro2 @Loucosdovalle Bolsonaro é con...</td>\n",
       "      <td>1</td>\n",
       "    </tr>\n",
       "    <tr>\n",
       "      <th>3</th>\n",
       "      <td>['1576050318596399104']</td>\n",
       "      <td>1576050318596399104</td>\n",
       "      <td>@Victorrmsk É a milésima vez que ele fala ao v...</td>\n",
       "      <td>0</td>\n",
       "    </tr>\n",
       "    <tr>\n",
       "      <th>4</th>\n",
       "      <td>['1576050309822287873']</td>\n",
       "      <td>1576050309822287873</td>\n",
       "      <td>@OGloboPolitica Bolsonaro é tão fake, q até o ...</td>\n",
       "      <td>-1</td>\n",
       "    </tr>\n",
       "    <tr>\n",
       "      <th>...</th>\n",
       "      <td>...</td>\n",
       "      <td>...</td>\n",
       "      <td>...</td>\n",
       "      <td>...</td>\n",
       "    </tr>\n",
       "    <tr>\n",
       "      <th>241</th>\n",
       "      <td>['1576039456552853504']</td>\n",
       "      <td>1576039456552853504</td>\n",
       "      <td>a pessoa não tem nem idade pra votar e ainda q...</td>\n",
       "      <td>-1</td>\n",
       "    </tr>\n",
       "    <tr>\n",
       "      <th>242</th>\n",
       "      <td>['1576039448760156161']</td>\n",
       "      <td>1576039448760156161</td>\n",
       "      <td>A corrupção de Lula não causou estrago só no B...</td>\n",
       "      <td>-1</td>\n",
       "    </tr>\n",
       "    <tr>\n",
       "      <th>243</th>\n",
       "      <td>['1576039448093265920']</td>\n",
       "      <td>1576039448093265920</td>\n",
       "      <td>eu n aguento mais essa gnt falando de política...</td>\n",
       "      <td>-1</td>\n",
       "    </tr>\n",
       "    <tr>\n",
       "      <th>244</th>\n",
       "      <td>['1576039446331281409']</td>\n",
       "      <td>1576039446331281409</td>\n",
       "      <td>@Emanuel_Jrz @jairbolsonaro @MariaFdaCabal O B...</td>\n",
       "      <td>1</td>\n",
       "    </tr>\n",
       "    <tr>\n",
       "      <th>245</th>\n",
       "      <td>['1576039441797623808']</td>\n",
       "      <td>1576039441797623808</td>\n",
       "      <td>As loira odonto de CP criticaram minha opinião...</td>\n",
       "      <td>-1</td>\n",
       "    </tr>\n",
       "  </tbody>\n",
       "</table>\n",
       "<p>239 rows × 4 columns</p>\n",
       "</div>"
      ],
      "text/plain": [
       "      edit_history_tweet_ids                   id  \\\n",
       "0    ['1576050330114363392']  1576050330114363392   \n",
       "1    ['1576050330110160901']  1576050330110160901   \n",
       "2    ['1576050318852640769']  1576050318852640769   \n",
       "3    ['1576050318596399104']  1576050318596399104   \n",
       "4    ['1576050309822287873']  1576050309822287873   \n",
       "..                       ...                  ...   \n",
       "241  ['1576039456552853504']  1576039456552853504   \n",
       "242  ['1576039448760156161']  1576039448760156161   \n",
       "243  ['1576039448093265920']  1576039448093265920   \n",
       "244  ['1576039446331281409']  1576039446331281409   \n",
       "245  ['1576039441797623808']  1576039441797623808   \n",
       "\n",
       "                                                  text label  \n",
       "0    @joicehasselmann Bolsonaro NÃO quer aproveitad...    -1  \n",
       "1    o bolsonaro é um anjo enviado de deus para nos...     1  \n",
       "2    @AndradeRNegro2 @Loucosdovalle Bolsonaro é con...     1  \n",
       "3    @Victorrmsk É a milésima vez que ele fala ao v...     0  \n",
       "4    @OGloboPolitica Bolsonaro é tão fake, q até o ...    -1  \n",
       "..                                                 ...   ...  \n",
       "241  a pessoa não tem nem idade pra votar e ainda q...    -1  \n",
       "242  A corrupção de Lula não causou estrago só no B...    -1  \n",
       "243  eu n aguento mais essa gnt falando de política...    -1  \n",
       "244  @Emanuel_Jrz @jairbolsonaro @MariaFdaCabal O B...     1  \n",
       "245  As loira odonto de CP criticaram minha opinião...    -1  \n",
       "\n",
       "[239 rows x 4 columns]"
      ]
     },
     "execution_count": 39,
     "metadata": {},
     "output_type": "execute_result"
    }
   ],
   "source": [
    "df_final = df_final[(df_final['label'] != 'r') & (df_final['label'] != '4')]\n",
    "df_final"
   ]
  },
  {
   "cell_type": "code",
   "execution_count": 40,
   "metadata": {},
   "outputs": [
    {
     "data": {
      "text/plain": [
       "-1    97\n",
       "0     82\n",
       "1     60\n",
       "Name: label, dtype: int64"
      ]
     },
     "execution_count": 40,
     "metadata": {},
     "output_type": "execute_result"
    }
   ],
   "source": [
    "df_final['label'].value_counts()"
   ]
  },
  {
   "cell_type": "code",
   "execution_count": 41,
   "metadata": {},
   "outputs": [],
   "source": [
    "import re\n",
    "\n",
    "emoji_pattern = re.compile(\"[\"\n",
    "        u\"\\U0001F600-\\U0001F64F\"  # emoticons\n",
    "        u\"\\U0001F300-\\U0001F5FF\"  # symbols & pictographs\n",
    "        u\"\\U0001F680-\\U0001F6FF\"  # transport & map symbols\n",
    "        u\"\\U0001F1E0-\\U0001F1FF\"  # flags (iOS)\n",
    "                           \"]+\", flags=re.UNICODE)\n",
    "\n",
    "def cleanData():\n",
    "    clean_text = []\n",
    "\n",
    "    texts = df_final['text'].to_numpy()\n",
    "\n",
    "    for i in range(0, len(texts)):\n",
    "        original_text = texts[i]\n",
    "        clean_tweet = re.sub(\"@[A-Za-z0-9_]+\",\"\", original_text)\n",
    "        clean_tweet = re.sub(\"#[A-Za-z0-9_]+\",\"\", clean_tweet)\n",
    "        clean_tweet = re.sub(\"#[A-Za-z0-9_]+\",\"\", clean_tweet)\n",
    "        clean_tweet = re.sub(r\"http\\S+\", \"\", clean_tweet)\n",
    "        clean_tweet = emoji_pattern.sub(r'', clean_tweet)\n",
    "        clean_text.append(clean_tweet)\n",
    "    \n",
    "    df_final['clean_text'] = clean_text"
   ]
  },
  {
   "cell_type": "code",
   "execution_count": 42,
   "metadata": {},
   "outputs": [
    {
     "name": "stderr",
     "output_type": "stream",
     "text": [
      "C:\\Users\\mathe\\AppData\\Local\\Temp\\ipykernel_17240\\2195936684.py:24: SettingWithCopyWarning: \n",
      "A value is trying to be set on a copy of a slice from a DataFrame.\n",
      "Try using .loc[row_indexer,col_indexer] = value instead\n",
      "\n",
      "See the caveats in the documentation: https://pandas.pydata.org/pandas-docs/stable/user_guide/indexing.html#returning-a-view-versus-a-copy\n",
      "  df_final['clean_text'] = clean_text\n"
     ]
    }
   ],
   "source": [
    "cleanData()"
   ]
  },
  {
   "cell_type": "code",
   "execution_count": 45,
   "metadata": {},
   "outputs": [
    {
     "data": {
      "text/plain": [
       "(239, 5)"
      ]
     },
     "execution_count": 45,
     "metadata": {},
     "output_type": "execute_result"
    }
   ],
   "source": [
    "df_final.shape"
   ]
  },
  {
   "cell_type": "code",
   "execution_count": 44,
   "metadata": {},
   "outputs": [],
   "source": [
    "df_final.to_csv('concat.csv',index=False)"
   ]
  }
 ],
 "metadata": {
  "kernelspec": {
   "display_name": "Python 3.9.7 ('base')",
   "language": "python",
   "name": "python3"
  },
  "language_info": {
   "codemirror_mode": {
    "name": "ipython",
    "version": 3
   },
   "file_extension": ".py",
   "mimetype": "text/x-python",
   "name": "python",
   "nbconvert_exporter": "python",
   "pygments_lexer": "ipython3",
   "version": "3.9.13"
  },
  "orig_nbformat": 4,
  "vscode": {
   "interpreter": {
    "hash": "d674aba619e9128d5d95f68874c090de0e48b8e67c1ba838c5d294b8a6cf0663"
   }
  }
 },
 "nbformat": 4,
 "nbformat_minor": 2
}
