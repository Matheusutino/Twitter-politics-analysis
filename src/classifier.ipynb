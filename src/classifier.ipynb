{
 "cells": [
  {
   "cell_type": "markdown",
   "metadata": {},
   "source": [
    "# Training and Validation"
   ]
  },
  {
   "cell_type": "code",
   "execution_count": 6,
   "metadata": {},
   "outputs": [
    {
     "data": {
      "text/html": [
       "<div>\n",
       "<style scoped>\n",
       "    .dataframe tbody tr th:only-of-type {\n",
       "        vertical-align: middle;\n",
       "    }\n",
       "\n",
       "    .dataframe tbody tr th {\n",
       "        vertical-align: top;\n",
       "    }\n",
       "\n",
       "    .dataframe thead th {\n",
       "        text-align: right;\n",
       "    }\n",
       "</style>\n",
       "<table border=\"1\" class=\"dataframe\">\n",
       "  <thead>\n",
       "    <tr style=\"text-align: right;\">\n",
       "      <th></th>\n",
       "      <th>edit_history_tweet_ids</th>\n",
       "      <th>id</th>\n",
       "      <th>text</th>\n",
       "      <th>label</th>\n",
       "      <th>clean_text</th>\n",
       "    </tr>\n",
       "  </thead>\n",
       "  <tbody>\n",
       "    <tr>\n",
       "      <th>0</th>\n",
       "      <td>['1576050330114363392']</td>\n",
       "      <td>1576050330114363392</td>\n",
       "      <td>@joicehasselmann Bolsonaro NÃO quer aproveitad...</td>\n",
       "      <td>-1</td>\n",
       "      <td>Bolsonaro NÃO quer aproveitadores como você.</td>\n",
       "    </tr>\n",
       "    <tr>\n",
       "      <th>1</th>\n",
       "      <td>['1576050330110160901']</td>\n",
       "      <td>1576050330110160901</td>\n",
       "      <td>o bolsonaro é um anjo enviado de deus para nos...</td>\n",
       "      <td>1</td>\n",
       "      <td>o bolsonaro é um anjo enviado de deus para nos...</td>\n",
       "    </tr>\n",
       "    <tr>\n",
       "      <th>2</th>\n",
       "      <td>['1576050318852640769']</td>\n",
       "      <td>1576050318852640769</td>\n",
       "      <td>@AndradeRNegro2 @Loucosdovalle Bolsonaro é con...</td>\n",
       "      <td>1</td>\n",
       "      <td>Bolsonaro é contra o aborto e defende a vida...</td>\n",
       "    </tr>\n",
       "    <tr>\n",
       "      <th>3</th>\n",
       "      <td>['1576050318596399104']</td>\n",
       "      <td>1576050318596399104</td>\n",
       "      <td>@Victorrmsk É a milésima vez que ele fala ao v...</td>\n",
       "      <td>0</td>\n",
       "      <td>É a milésima vez que ele fala ao vivo que não...</td>\n",
       "    </tr>\n",
       "    <tr>\n",
       "      <th>4</th>\n",
       "      <td>['1576050309822287873']</td>\n",
       "      <td>1576050309822287873</td>\n",
       "      <td>@OGloboPolitica Bolsonaro é tão fake, q até o ...</td>\n",
       "      <td>-1</td>\n",
       "      <td>Bolsonaro é tão fake, q até o laranja q ele l...</td>\n",
       "    </tr>\n",
       "    <tr>\n",
       "      <th>...</th>\n",
       "      <td>...</td>\n",
       "      <td>...</td>\n",
       "      <td>...</td>\n",
       "      <td>...</td>\n",
       "      <td>...</td>\n",
       "    </tr>\n",
       "    <tr>\n",
       "      <th>234</th>\n",
       "      <td>['1576039456552853504']</td>\n",
       "      <td>1576039456552853504</td>\n",
       "      <td>a pessoa não tem nem idade pra votar e ainda q...</td>\n",
       "      <td>-1</td>\n",
       "      <td>a pessoa não tem nem idade pra votar e ainda q...</td>\n",
       "    </tr>\n",
       "    <tr>\n",
       "      <th>235</th>\n",
       "      <td>['1576039448760156161']</td>\n",
       "      <td>1576039448760156161</td>\n",
       "      <td>A corrupção de Lula não causou estrago só no B...</td>\n",
       "      <td>-1</td>\n",
       "      <td>A corrupção de Lula não causou estrago só no B...</td>\n",
       "    </tr>\n",
       "    <tr>\n",
       "      <th>236</th>\n",
       "      <td>['1576039448093265920']</td>\n",
       "      <td>1576039448093265920</td>\n",
       "      <td>eu n aguento mais essa gnt falando de política...</td>\n",
       "      <td>-1</td>\n",
       "      <td>eu n aguento mais essa gnt falando de política...</td>\n",
       "    </tr>\n",
       "    <tr>\n",
       "      <th>237</th>\n",
       "      <td>['1576039446331281409']</td>\n",
       "      <td>1576039446331281409</td>\n",
       "      <td>@Emanuel_Jrz @jairbolsonaro @MariaFdaCabal O B...</td>\n",
       "      <td>1</td>\n",
       "      <td>O Brasil não quer mais essa gangue na polít...</td>\n",
       "    </tr>\n",
       "    <tr>\n",
       "      <th>238</th>\n",
       "      <td>['1576039441797623808']</td>\n",
       "      <td>1576039441797623808</td>\n",
       "      <td>As loira odonto de CP criticaram minha opinião...</td>\n",
       "      <td>-1</td>\n",
       "      <td>As loira odonto de CP criticaram minha opinião...</td>\n",
       "    </tr>\n",
       "  </tbody>\n",
       "</table>\n",
       "<p>239 rows × 5 columns</p>\n",
       "</div>"
      ],
      "text/plain": [
       "      edit_history_tweet_ids                   id  \\\n",
       "0    ['1576050330114363392']  1576050330114363392   \n",
       "1    ['1576050330110160901']  1576050330110160901   \n",
       "2    ['1576050318852640769']  1576050318852640769   \n",
       "3    ['1576050318596399104']  1576050318596399104   \n",
       "4    ['1576050309822287873']  1576050309822287873   \n",
       "..                       ...                  ...   \n",
       "234  ['1576039456552853504']  1576039456552853504   \n",
       "235  ['1576039448760156161']  1576039448760156161   \n",
       "236  ['1576039448093265920']  1576039448093265920   \n",
       "237  ['1576039446331281409']  1576039446331281409   \n",
       "238  ['1576039441797623808']  1576039441797623808   \n",
       "\n",
       "                                                  text  label  \\\n",
       "0    @joicehasselmann Bolsonaro NÃO quer aproveitad...     -1   \n",
       "1    o bolsonaro é um anjo enviado de deus para nos...      1   \n",
       "2    @AndradeRNegro2 @Loucosdovalle Bolsonaro é con...      1   \n",
       "3    @Victorrmsk É a milésima vez que ele fala ao v...      0   \n",
       "4    @OGloboPolitica Bolsonaro é tão fake, q até o ...     -1   \n",
       "..                                                 ...    ...   \n",
       "234  a pessoa não tem nem idade pra votar e ainda q...     -1   \n",
       "235  A corrupção de Lula não causou estrago só no B...     -1   \n",
       "236  eu n aguento mais essa gnt falando de política...     -1   \n",
       "237  @Emanuel_Jrz @jairbolsonaro @MariaFdaCabal O B...      1   \n",
       "238  As loira odonto de CP criticaram minha opinião...     -1   \n",
       "\n",
       "                                            clean_text  \n",
       "0         Bolsonaro NÃO quer aproveitadores como você.  \n",
       "1    o bolsonaro é um anjo enviado de deus para nos...  \n",
       "2      Bolsonaro é contra o aborto e defende a vida...  \n",
       "3     É a milésima vez que ele fala ao vivo que não...  \n",
       "4     Bolsonaro é tão fake, q até o laranja q ele l...  \n",
       "..                                                 ...  \n",
       "234  a pessoa não tem nem idade pra votar e ainda q...  \n",
       "235  A corrupção de Lula não causou estrago só no B...  \n",
       "236  eu n aguento mais essa gnt falando de política...  \n",
       "237     O Brasil não quer mais essa gangue na polít...  \n",
       "238  As loira odonto de CP criticaram minha opinião...  \n",
       "\n",
       "[239 rows x 5 columns]"
      ]
     },
     "execution_count": 6,
     "metadata": {},
     "output_type": "execute_result"
    }
   ],
   "source": [
    "import pandas as pd\n",
    "\n",
    "df = pd.read_csv(\"../data/concat.csv\")\n",
    "df"
   ]
  },
  {
   "cell_type": "code",
   "execution_count": 7,
   "metadata": {},
   "outputs": [],
   "source": [
    "import numpy as np\n",
    "\n",
    "inputs = df['text'].to_numpy()\n",
    "target = df['label'].to_numpy()"
   ]
  },
  {
   "cell_type": "code",
   "execution_count": 9,
   "metadata": {},
   "outputs": [
    {
     "data": {
      "text/plain": [
       "SentenceTransformer(\n",
       "  (0): Transformer({'max_seq_length': 128, 'do_lower_case': False}) with Transformer model: DistilBertModel \n",
       "  (1): Pooling({'word_embedding_dimension': 768, 'pooling_mode_cls_token': False, 'pooling_mode_mean_tokens': True, 'pooling_mode_max_tokens': False, 'pooling_mode_mean_sqrt_len_tokens': False})\n",
       "  (2): Dense({'in_features': 768, 'out_features': 512, 'bias': True, 'activation_function': 'torch.nn.modules.activation.Tanh'})\n",
       ")"
      ]
     },
     "execution_count": 9,
     "metadata": {},
     "output_type": "execute_result"
    }
   ],
   "source": [
    "from sentence_transformers import SentenceTransformer\n",
    "\n",
    "model = SentenceTransformer('../distiluse-base-multilingual-cased-v1')\n",
    "model"
   ]
  },
  {
   "cell_type": "code",
   "execution_count": 10,
   "metadata": {},
   "outputs": [],
   "source": [
    "embeddings = model.encode(inputs)"
   ]
  },
  {
   "cell_type": "code",
   "execution_count": 11,
   "metadata": {},
   "outputs": [],
   "source": [
    "from sklearn.model_selection import train_test_split\n",
    "\n",
    "x_train, x_val, y_train, y_val = train_test_split(embeddings, target, test_size=0.2, stratify = target, random_state=42)"
   ]
  },
  {
   "cell_type": "code",
   "execution_count": 12,
   "metadata": {},
   "outputs": [
    {
     "name": "stdout",
     "output_type": "stream",
     "text": [
      "              precision    recall  f1-score   support\n",
      "\n",
      "          -1       0.58      0.75      0.65        20\n",
      "           0       0.50      0.38      0.43        16\n",
      "           1       0.30      0.25      0.27        12\n",
      "\n",
      "    accuracy                           0.50        48\n",
      "   macro avg       0.46      0.46      0.45        48\n",
      "weighted avg       0.48      0.50      0.48        48\n",
      "\n"
     ]
    }
   ],
   "source": [
    "from sklearn.ensemble import RandomForestClassifier, VotingClassifier\n",
    "from sklearn.ensemble import GradientBoostingClassifier\n",
    "from sklearn.ensemble import AdaBoostClassifier\n",
    "from sklearn.neural_network import MLPClassifier\n",
    "from sklearn.metrics import classification_report\n",
    "\n",
    "eclf1 = VotingClassifier(estimators=[('ABC', AdaBoostClassifier(n_estimators=500)), ('GBC', GradientBoostingClassifier(n_estimators=500))], voting='soft')\n",
    "eclf1 = eclf1.fit(x_train, y_train)\n",
    "\n",
    "pred = eclf1.predict(x_val)\n",
    "\n",
    "print(classification_report(y_val, pred))"
   ]
  },
  {
   "cell_type": "markdown",
   "metadata": {},
   "source": [
    "# Test data"
   ]
  },
  {
   "cell_type": "code",
   "execution_count": 13,
   "metadata": {},
   "outputs": [],
   "source": [
    "x = ['Bolsonaro é o melhor presidente possível', 'Lula sempre deu o seu melhor pelo país', 'Ciro coitado, não serve pra nada', 'Todos os candidatos são ruins', 'Gostei muito dessa proposta', 'Bolsonaro foi ao congresso', 'Essa eleição é uma piada mesmo', 'Simplesmente horrível política', 'Não consigo entender como tem gente que não gosta de política no Brasil', 'Estou muito contente com o meu canditato!', 'Não acho é nada sobre isso', 'Sério que você acha o lula bom? kkkkkkkkkkkkk', \"Ele é um ladrão velho\", \"Eleições são uma perda de tempo mesmo\", 'Qualquer candidato eleito vai continuar a mesma coisa', '5 dias pro Lula ganhar no primeiro turno em galera', 'meu pai parou de acreditar em tudo que vê na internet quando eu fiz uma montagem com uma foto dele dizendo que ele era foragido da polícia, pra provar que qualquer um pode inventar algo', 'insuportável essa época de política', 'Vai deixar de gostar do Neymar por conta de posição política? Eu nunca gostei do Neymar.']"
   ]
  },
  {
   "cell_type": "code",
   "execution_count": 14,
   "metadata": {},
   "outputs": [],
   "source": [
    "embeddings_test = model.encode(x)"
   ]
  },
  {
   "cell_type": "code",
   "execution_count": 15,
   "metadata": {},
   "outputs": [
    {
     "data": {
      "text/plain": [
       "array([ 1,  1, -1, -1,  1,  0, -1, -1, -1,  1,  0,  0, -1, -1,  0,  1,  0,\n",
       "       -1, -1], dtype=int64)"
      ]
     },
     "execution_count": 15,
     "metadata": {},
     "output_type": "execute_result"
    }
   ],
   "source": [
    "y_pred = eclf1.predict(embeddings_test)\n",
    "y_pred"
   ]
  },
  {
   "cell_type": "code",
   "execution_count": 17,
   "metadata": {},
   "outputs": [
    {
     "data": {
      "text/html": [
       "<div>\n",
       "<style scoped>\n",
       "    .dataframe tbody tr th:only-of-type {\n",
       "        vertical-align: middle;\n",
       "    }\n",
       "\n",
       "    .dataframe tbody tr th {\n",
       "        vertical-align: top;\n",
       "    }\n",
       "\n",
       "    .dataframe thead th {\n",
       "        text-align: right;\n",
       "    }\n",
       "</style>\n",
       "<table border=\"1\" class=\"dataframe\">\n",
       "  <thead>\n",
       "    <tr style=\"text-align: right;\">\n",
       "      <th></th>\n",
       "      <th>Text</th>\n",
       "      <th>label</th>\n",
       "    </tr>\n",
       "  </thead>\n",
       "  <tbody>\n",
       "    <tr>\n",
       "      <th>0</th>\n",
       "      <td>Bolsonaro é o melhor presidente possível</td>\n",
       "      <td>1</td>\n",
       "    </tr>\n",
       "    <tr>\n",
       "      <th>1</th>\n",
       "      <td>Lula sempre deu o seu melhor pelo país</td>\n",
       "      <td>1</td>\n",
       "    </tr>\n",
       "    <tr>\n",
       "      <th>2</th>\n",
       "      <td>Ciro coitado, não serve pra nada</td>\n",
       "      <td>-1</td>\n",
       "    </tr>\n",
       "    <tr>\n",
       "      <th>3</th>\n",
       "      <td>Todos os candidatos são ruins</td>\n",
       "      <td>-1</td>\n",
       "    </tr>\n",
       "    <tr>\n",
       "      <th>4</th>\n",
       "      <td>Gostei muito dessa proposta</td>\n",
       "      <td>1</td>\n",
       "    </tr>\n",
       "    <tr>\n",
       "      <th>5</th>\n",
       "      <td>Bolsonaro foi ao congresso</td>\n",
       "      <td>0</td>\n",
       "    </tr>\n",
       "    <tr>\n",
       "      <th>6</th>\n",
       "      <td>Essa eleição é uma piada mesmo</td>\n",
       "      <td>-1</td>\n",
       "    </tr>\n",
       "    <tr>\n",
       "      <th>7</th>\n",
       "      <td>Simplesmente horrível política</td>\n",
       "      <td>-1</td>\n",
       "    </tr>\n",
       "    <tr>\n",
       "      <th>8</th>\n",
       "      <td>Não consigo entender como tem gente que não go...</td>\n",
       "      <td>-1</td>\n",
       "    </tr>\n",
       "    <tr>\n",
       "      <th>9</th>\n",
       "      <td>Estou muito contente com o meu canditato!</td>\n",
       "      <td>1</td>\n",
       "    </tr>\n",
       "    <tr>\n",
       "      <th>10</th>\n",
       "      <td>Não acho é nada sobre isso</td>\n",
       "      <td>0</td>\n",
       "    </tr>\n",
       "    <tr>\n",
       "      <th>11</th>\n",
       "      <td>Sério que você acha o lula bom? kkkkkkkkkkkkk</td>\n",
       "      <td>0</td>\n",
       "    </tr>\n",
       "    <tr>\n",
       "      <th>12</th>\n",
       "      <td>Ele é um ladrão velho</td>\n",
       "      <td>-1</td>\n",
       "    </tr>\n",
       "    <tr>\n",
       "      <th>13</th>\n",
       "      <td>Eleições são uma perda de tempo mesmo</td>\n",
       "      <td>-1</td>\n",
       "    </tr>\n",
       "    <tr>\n",
       "      <th>14</th>\n",
       "      <td>Qualquer candidato eleito vai continuar a mesm...</td>\n",
       "      <td>0</td>\n",
       "    </tr>\n",
       "    <tr>\n",
       "      <th>15</th>\n",
       "      <td>5 dias pro Lula ganhar no primeiro turno em ga...</td>\n",
       "      <td>1</td>\n",
       "    </tr>\n",
       "    <tr>\n",
       "      <th>16</th>\n",
       "      <td>meu pai parou de acreditar em tudo que vê na i...</td>\n",
       "      <td>0</td>\n",
       "    </tr>\n",
       "    <tr>\n",
       "      <th>17</th>\n",
       "      <td>insuportável essa época de política</td>\n",
       "      <td>-1</td>\n",
       "    </tr>\n",
       "    <tr>\n",
       "      <th>18</th>\n",
       "      <td>Vai deixar de gostar do Neymar por conta de po...</td>\n",
       "      <td>-1</td>\n",
       "    </tr>\n",
       "  </tbody>\n",
       "</table>\n",
       "</div>"
      ],
      "text/plain": [
       "                                                 Text  label\n",
       "0            Bolsonaro é o melhor presidente possível      1\n",
       "1              Lula sempre deu o seu melhor pelo país      1\n",
       "2                    Ciro coitado, não serve pra nada     -1\n",
       "3                       Todos os candidatos são ruins     -1\n",
       "4                         Gostei muito dessa proposta      1\n",
       "5                          Bolsonaro foi ao congresso      0\n",
       "6                      Essa eleição é uma piada mesmo     -1\n",
       "7                      Simplesmente horrível política     -1\n",
       "8   Não consigo entender como tem gente que não go...     -1\n",
       "9           Estou muito contente com o meu canditato!      1\n",
       "10                         Não acho é nada sobre isso      0\n",
       "11      Sério que você acha o lula bom? kkkkkkkkkkkkk      0\n",
       "12                              Ele é um ladrão velho     -1\n",
       "13              Eleições são uma perda de tempo mesmo     -1\n",
       "14  Qualquer candidato eleito vai continuar a mesm...      0\n",
       "15  5 dias pro Lula ganhar no primeiro turno em ga...      1\n",
       "16  meu pai parou de acreditar em tudo que vê na i...      0\n",
       "17                insuportável essa época de política     -1\n",
       "18  Vai deixar de gostar do Neymar por conta de po...     -1"
      ]
     },
     "execution_count": 17,
     "metadata": {},
     "output_type": "execute_result"
    }
   ],
   "source": [
    "df_results = pd.DataFrame({'Text' : x, 'label' : y_pred})\n",
    "df_results"
   ]
  }
 ],
 "metadata": {
  "kernelspec": {
   "display_name": "Python 3.9.7 ('base')",
   "language": "python",
   "name": "python3"
  },
  "language_info": {
   "codemirror_mode": {
    "name": "ipython",
    "version": 3
   },
   "file_extension": ".py",
   "mimetype": "text/x-python",
   "name": "python",
   "nbconvert_exporter": "python",
   "pygments_lexer": "ipython3",
   "version": "3.9.13"
  },
  "orig_nbformat": 4,
  "vscode": {
   "interpreter": {
    "hash": "d674aba619e9128d5d95f68874c090de0e48b8e67c1ba838c5d294b8a6cf0663"
   }
  }
 },
 "nbformat": 4,
 "nbformat_minor": 2
}
