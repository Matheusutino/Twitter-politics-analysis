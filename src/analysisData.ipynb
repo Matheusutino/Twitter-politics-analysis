{
 "cells": [
  {
   "cell_type": "code",
   "execution_count": 17,
   "metadata": {},
   "outputs": [],
   "source": [
    "import pandas as pd\n",
    "import seaborn as sns\n",
    "from pylab import rcParams\n",
    "import matplotlib.pyplot as plt\n",
    "from matplotlib import rc"
   ]
  },
  {
   "cell_type": "code",
   "execution_count": 18,
   "metadata": {},
   "outputs": [
    {
     "data": {
      "text/html": [
       "<div>\n",
       "<style scoped>\n",
       "    .dataframe tbody tr th:only-of-type {\n",
       "        vertical-align: middle;\n",
       "    }\n",
       "\n",
       "    .dataframe tbody tr th {\n",
       "        vertical-align: top;\n",
       "    }\n",
       "\n",
       "    .dataframe thead th {\n",
       "        text-align: right;\n",
       "    }\n",
       "</style>\n",
       "<table border=\"1\" class=\"dataframe\">\n",
       "  <thead>\n",
       "    <tr style=\"text-align: right;\">\n",
       "      <th></th>\n",
       "      <th>edit_history_tweet_ids</th>\n",
       "      <th>id</th>\n",
       "      <th>text</th>\n",
       "      <th>label</th>\n",
       "    </tr>\n",
       "  </thead>\n",
       "  <tbody>\n",
       "    <tr>\n",
       "      <th>0</th>\n",
       "      <td>['1576050330114363392']</td>\n",
       "      <td>1576050330114363392</td>\n",
       "      <td>@joicehasselmann Bolsonaro NÃO quer aproveitad...</td>\n",
       "      <td>-1</td>\n",
       "    </tr>\n",
       "    <tr>\n",
       "      <th>1</th>\n",
       "      <td>['1576050330110160901']</td>\n",
       "      <td>1576050330110160901</td>\n",
       "      <td>o bolsonaro é um anjo enviado de deus para nos...</td>\n",
       "      <td>1</td>\n",
       "    </tr>\n",
       "    <tr>\n",
       "      <th>2</th>\n",
       "      <td>['1576050318852640769']</td>\n",
       "      <td>1576050318852640769</td>\n",
       "      <td>@AndradeRNegro2 @Loucosdovalle Bolsonaro é con...</td>\n",
       "      <td>1</td>\n",
       "    </tr>\n",
       "    <tr>\n",
       "      <th>3</th>\n",
       "      <td>['1576050318596399104']</td>\n",
       "      <td>1576050318596399104</td>\n",
       "      <td>@Victorrmsk É a milésima vez que ele fala ao v...</td>\n",
       "      <td>0</td>\n",
       "    </tr>\n",
       "    <tr>\n",
       "      <th>4</th>\n",
       "      <td>['1576050309822287873']</td>\n",
       "      <td>1576050309822287873</td>\n",
       "      <td>@OGloboPolitica Bolsonaro é tão fake, q até o ...</td>\n",
       "      <td>-1</td>\n",
       "    </tr>\n",
       "    <tr>\n",
       "      <th>...</th>\n",
       "      <td>...</td>\n",
       "      <td>...</td>\n",
       "      <td>...</td>\n",
       "      <td>...</td>\n",
       "    </tr>\n",
       "    <tr>\n",
       "      <th>241</th>\n",
       "      <td>['1576039456552853504']</td>\n",
       "      <td>1576039456552853504</td>\n",
       "      <td>a pessoa não tem nem idade pra votar e ainda q...</td>\n",
       "      <td>-1</td>\n",
       "    </tr>\n",
       "    <tr>\n",
       "      <th>242</th>\n",
       "      <td>['1576039448760156161']</td>\n",
       "      <td>1576039448760156161</td>\n",
       "      <td>A corrupção de Lula não causou estrago só no B...</td>\n",
       "      <td>-1</td>\n",
       "    </tr>\n",
       "    <tr>\n",
       "      <th>243</th>\n",
       "      <td>['1576039448093265920']</td>\n",
       "      <td>1576039448093265920</td>\n",
       "      <td>eu n aguento mais essa gnt falando de política...</td>\n",
       "      <td>-1</td>\n",
       "    </tr>\n",
       "    <tr>\n",
       "      <th>244</th>\n",
       "      <td>['1576039446331281409']</td>\n",
       "      <td>1576039446331281409</td>\n",
       "      <td>@Emanuel_Jrz @jairbolsonaro @MariaFdaCabal O B...</td>\n",
       "      <td>1</td>\n",
       "    </tr>\n",
       "    <tr>\n",
       "      <th>245</th>\n",
       "      <td>['1576039441797623808']</td>\n",
       "      <td>1576039441797623808</td>\n",
       "      <td>As loira odonto de CP criticaram minha opinião...</td>\n",
       "      <td>-1</td>\n",
       "    </tr>\n",
       "  </tbody>\n",
       "</table>\n",
       "<p>246 rows × 4 columns</p>\n",
       "</div>"
      ],
      "text/plain": [
       "      edit_history_tweet_ids                   id  \\\n",
       "0    ['1576050330114363392']  1576050330114363392   \n",
       "1    ['1576050330110160901']  1576050330110160901   \n",
       "2    ['1576050318852640769']  1576050318852640769   \n",
       "3    ['1576050318596399104']  1576050318596399104   \n",
       "4    ['1576050309822287873']  1576050309822287873   \n",
       "..                       ...                  ...   \n",
       "241  ['1576039456552853504']  1576039456552853504   \n",
       "242  ['1576039448760156161']  1576039448760156161   \n",
       "243  ['1576039448093265920']  1576039448093265920   \n",
       "244  ['1576039446331281409']  1576039446331281409   \n",
       "245  ['1576039441797623808']  1576039441797623808   \n",
       "\n",
       "                                                  text label  \n",
       "0    @joicehasselmann Bolsonaro NÃO quer aproveitad...    -1  \n",
       "1    o bolsonaro é um anjo enviado de deus para nos...     1  \n",
       "2    @AndradeRNegro2 @Loucosdovalle Bolsonaro é con...     1  \n",
       "3    @Victorrmsk É a milésima vez que ele fala ao v...     0  \n",
       "4    @OGloboPolitica Bolsonaro é tão fake, q até o ...    -1  \n",
       "..                                                 ...   ...  \n",
       "241  a pessoa não tem nem idade pra votar e ainda q...    -1  \n",
       "242  A corrupção de Lula não causou estrago só no B...    -1  \n",
       "243  eu n aguento mais essa gnt falando de política...    -1  \n",
       "244  @Emanuel_Jrz @jairbolsonaro @MariaFdaCabal O B...     1  \n",
       "245  As loira odonto de CP criticaram minha opinião...    -1  \n",
       "\n",
       "[246 rows x 4 columns]"
      ]
     },
     "execution_count": 18,
     "metadata": {},
     "output_type": "execute_result"
    }
   ],
   "source": [
    "import glob, os\n",
    "\n",
    "df = pd.DataFrame()\n",
    "\n",
    "os.chdir(\"../data\")\n",
    "for file in glob.glob(\"*.csv\"):\n",
    "    if(file == \"candidato.csv\" or file == \"concat.csv\"):\n",
    "        continue\n",
    "    df_partial = pd.read_csv(file)\n",
    "    df = pd.concat([df, df_partial], ignore_index=True)\n",
    "df"
   ]
  },
  {
   "cell_type": "code",
   "execution_count": 19,
   "metadata": {},
   "outputs": [
    {
     "data": {
      "text/plain": [
       "(246, 4)"
      ]
     },
     "execution_count": 19,
     "metadata": {},
     "output_type": "execute_result"
    }
   ],
   "source": [
    "df.shape"
   ]
  },
  {
   "cell_type": "code",
   "execution_count": 20,
   "metadata": {},
   "outputs": [
    {
     "name": "stdout",
     "output_type": "stream",
     "text": [
      "<class 'pandas.core.frame.DataFrame'>\n",
      "RangeIndex: 246 entries, 0 to 245\n",
      "Data columns (total 4 columns):\n",
      " #   Column                  Non-Null Count  Dtype \n",
      "---  ------                  --------------  ----- \n",
      " 0   edit_history_tweet_ids  246 non-null    object\n",
      " 1   id                      246 non-null    int64 \n",
      " 2   text                    246 non-null    object\n",
      " 3   label                   246 non-null    object\n",
      "dtypes: int64(1), object(3)\n",
      "memory usage: 7.8+ KB\n"
     ]
    }
   ],
   "source": [
    "df.info()"
   ]
  },
  {
   "cell_type": "code",
   "execution_count": 21,
   "metadata": {},
   "outputs": [
    {
     "data": {
      "text/plain": [
       "edit_history_tweet_ids    0\n",
       "id                        0\n",
       "text                      0\n",
       "label                     0\n",
       "dtype: int64"
      ]
     },
     "execution_count": 21,
     "metadata": {},
     "output_type": "execute_result"
    }
   ],
   "source": [
    "#Check null elements\n",
    "\n",
    "df.isnull().sum()"
   ]
  },
  {
   "cell_type": "code",
   "execution_count": 22,
   "metadata": {},
   "outputs": [
    {
     "data": {
      "text/plain": [
       "0"
      ]
     },
     "execution_count": 22,
     "metadata": {},
     "output_type": "execute_result"
    }
   ],
   "source": [
    "# Check duplicate rows\n",
    "\n",
    "len(df)-len(df.drop_duplicates())"
   ]
  },
  {
   "cell_type": "code",
   "execution_count": 24,
   "metadata": {},
   "outputs": [
    {
     "data": {
      "text/html": [
       "<div>\n",
       "<style scoped>\n",
       "    .dataframe tbody tr th:only-of-type {\n",
       "        vertical-align: middle;\n",
       "    }\n",
       "\n",
       "    .dataframe tbody tr th {\n",
       "        vertical-align: top;\n",
       "    }\n",
       "\n",
       "    .dataframe thead th {\n",
       "        text-align: right;\n",
       "    }\n",
       "</style>\n",
       "<table border=\"1\" class=\"dataframe\">\n",
       "  <thead>\n",
       "    <tr style=\"text-align: right;\">\n",
       "      <th></th>\n",
       "      <th>edit_history_tweet_ids</th>\n",
       "      <th>id</th>\n",
       "      <th>text</th>\n",
       "      <th>label</th>\n",
       "      <th>num_words</th>\n",
       "    </tr>\n",
       "  </thead>\n",
       "  <tbody>\n",
       "    <tr>\n",
       "      <th>0</th>\n",
       "      <td>['1576050330114363392']</td>\n",
       "      <td>1576050330114363392</td>\n",
       "      <td>@joicehasselmann Bolsonaro NÃO quer aproveitad...</td>\n",
       "      <td>-1</td>\n",
       "      <td>7</td>\n",
       "    </tr>\n",
       "    <tr>\n",
       "      <th>1</th>\n",
       "      <td>['1576050330110160901']</td>\n",
       "      <td>1576050330110160901</td>\n",
       "      <td>o bolsonaro é um anjo enviado de deus para nos...</td>\n",
       "      <td>1</td>\n",
       "      <td>22</td>\n",
       "    </tr>\n",
       "    <tr>\n",
       "      <th>2</th>\n",
       "      <td>['1576050318852640769']</td>\n",
       "      <td>1576050318852640769</td>\n",
       "      <td>@AndradeRNegro2 @Loucosdovalle Bolsonaro é con...</td>\n",
       "      <td>1</td>\n",
       "      <td>28</td>\n",
       "    </tr>\n",
       "    <tr>\n",
       "      <th>3</th>\n",
       "      <td>['1576050318596399104']</td>\n",
       "      <td>1576050318596399104</td>\n",
       "      <td>@Victorrmsk É a milésima vez que ele fala ao v...</td>\n",
       "      <td>0</td>\n",
       "      <td>15</td>\n",
       "    </tr>\n",
       "    <tr>\n",
       "      <th>4</th>\n",
       "      <td>['1576050309822287873']</td>\n",
       "      <td>1576050309822287873</td>\n",
       "      <td>@OGloboPolitica Bolsonaro é tão fake, q até o ...</td>\n",
       "      <td>-1</td>\n",
       "      <td>18</td>\n",
       "    </tr>\n",
       "  </tbody>\n",
       "</table>\n",
       "</div>"
      ],
      "text/plain": [
       "    edit_history_tweet_ids                   id  \\\n",
       "0  ['1576050330114363392']  1576050330114363392   \n",
       "1  ['1576050330110160901']  1576050330110160901   \n",
       "2  ['1576050318852640769']  1576050318852640769   \n",
       "3  ['1576050318596399104']  1576050318596399104   \n",
       "4  ['1576050309822287873']  1576050309822287873   \n",
       "\n",
       "                                                text label  num_words  \n",
       "0  @joicehasselmann Bolsonaro NÃO quer aproveitad...    -1          7  \n",
       "1  o bolsonaro é um anjo enviado de deus para nos...     1         22  \n",
       "2  @AndradeRNegro2 @Loucosdovalle Bolsonaro é con...     1         28  \n",
       "3  @Victorrmsk É a milésima vez que ele fala ao v...     0         15  \n",
       "4  @OGloboPolitica Bolsonaro é tão fake, q até o ...    -1         18  "
      ]
     },
     "execution_count": 24,
     "metadata": {},
     "output_type": "execute_result"
    }
   ],
   "source": [
    "count = df['text'].str.split().str.len()\n",
    "df['num_words'] = count\n",
    "df.head()"
   ]
  },
  {
   "cell_type": "code",
   "execution_count": 25,
   "metadata": {},
   "outputs": [
    {
     "data": {
      "text/plain": [
       "64"
      ]
     },
     "execution_count": 25,
     "metadata": {},
     "output_type": "execute_result"
    }
   ],
   "source": [
    "# Get max number of words in dataset\n",
    "\n",
    "df['num_words'].max()"
   ]
  },
  {
   "cell_type": "code",
   "execution_count": 28,
   "metadata": {},
   "outputs": [
    {
     "name": "stderr",
     "output_type": "stream",
     "text": [
      "c:\\Users\\mathe\\anaconda3\\lib\\site-packages\\seaborn\\_decorators.py:36: FutureWarning: Pass the following variable as a keyword arg: x. From version 0.12, the only valid positional argument will be `data`, and passing other arguments without an explicit keyword will result in an error or misinterpretation.\n",
      "  warnings.warn(\n"
     ]
    },
    {
     "data": {
      "text/plain": [
       "Text(0.5, 0, 'label')"
      ]
     },
     "execution_count": 28,
     "metadata": {},
     "output_type": "execute_result"
    },
    {
     "data": {
      "image/png": "[encoded data removed]",
      "text/plain": [
       "<Figure size 640x480 with 1 Axes>"
      ]
     },
     "metadata": {},
     "output_type": "display_data"
    }
   ],
   "source": [
    "# Distribution of score data\n",
    "\n",
    "sns.countplot(df['label'].apply(str))\n",
    "plt.xlabel('label')"
   ]
  },
  {
   "cell_type": "code",
   "execution_count": null,
   "metadata": {},
   "outputs": [],
   "source": [
    "df.to_csv('../data/concat.csv',index=False)"
   ]
  }
 ],
 "metadata": {
  "kernelspec": {
   "display_name": "Python 3.9.7 ('base')",
   "language": "python",
   "name": "python3"
  },
  "language_info": {
   "codemirror_mode": {
    "name": "ipython",
    "version": 3
   },
   "file_extension": ".py",
   "mimetype": "text/x-python",
   "name": "python",
   "nbconvert_exporter": "python",
   "pygments_lexer": "ipython3",
   "version": "3.9.13"
  },
  "orig_nbformat": 4,
  "vscode": {
   "interpreter": {
    "hash": "d674aba619e9128d5d95f68874c090de0e48b8e67c1ba838c5d294b8a6cf0663"
   }
  }
 },
 "nbformat": 4,
 "nbformat_minor": 2
}
