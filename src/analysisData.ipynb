{
 "cells": [
  {
   "cell_type": "code",
   "execution_count": 1,
   "metadata": {},
   "outputs": [],
   "source": [
    "import pandas as pd\n",
    "import seaborn as sns\n",
    "from pylab import rcParams\n",
    "import matplotlib.pyplot as plt\n",
    "from matplotlib import rc"
   ]
  },
  {
   "cell_type": "code",
   "execution_count": 2,
   "metadata": {},
   "outputs": [
    {
     "data": {
      "text/html": [
       "<div>\n",
       "<style scoped>\n",
       "    .dataframe tbody tr th:only-of-type {\n",
       "        vertical-align: middle;\n",
       "    }\n",
       "\n",
       "    .dataframe tbody tr th {\n",
       "        vertical-align: top;\n",
       "    }\n",
       "\n",
       "    .dataframe thead th {\n",
       "        text-align: right;\n",
       "    }\n",
       "</style>\n",
       "<table border=\"1\" class=\"dataframe\">\n",
       "  <thead>\n",
       "    <tr style=\"text-align: right;\">\n",
       "      <th></th>\n",
       "      <th>edit_history_tweet_ids</th>\n",
       "      <th>id</th>\n",
       "      <th>text</th>\n",
       "      <th>label</th>\n",
       "      <th>clean_text</th>\n",
       "    </tr>\n",
       "  </thead>\n",
       "  <tbody>\n",
       "    <tr>\n",
       "      <th>0</th>\n",
       "      <td>['1576050330114363392']</td>\n",
       "      <td>1576050330114363392</td>\n",
       "      <td>@joicehasselmann Bolsonaro NÃO quer aproveitad...</td>\n",
       "      <td>-1</td>\n",
       "      <td>Bolsonaro NÃO quer aproveitadores como você.</td>\n",
       "    </tr>\n",
       "    <tr>\n",
       "      <th>1</th>\n",
       "      <td>['1576050330110160901']</td>\n",
       "      <td>1576050330110160901</td>\n",
       "      <td>o bolsonaro é um anjo enviado de deus para nos...</td>\n",
       "      <td>1</td>\n",
       "      <td>o bolsonaro é um anjo enviado de deus para nos...</td>\n",
       "    </tr>\n",
       "    <tr>\n",
       "      <th>2</th>\n",
       "      <td>['1576050318852640769']</td>\n",
       "      <td>1576050318852640769</td>\n",
       "      <td>@AndradeRNegro2 @Loucosdovalle Bolsonaro é con...</td>\n",
       "      <td>1</td>\n",
       "      <td>Bolsonaro é contra o aborto e defende a vida...</td>\n",
       "    </tr>\n",
       "    <tr>\n",
       "      <th>3</th>\n",
       "      <td>['1576050318596399104']</td>\n",
       "      <td>1576050318596399104</td>\n",
       "      <td>@Victorrmsk É a milésima vez que ele fala ao v...</td>\n",
       "      <td>0</td>\n",
       "      <td>É a milésima vez que ele fala ao vivo que não...</td>\n",
       "    </tr>\n",
       "    <tr>\n",
       "      <th>4</th>\n",
       "      <td>['1576050309822287873']</td>\n",
       "      <td>1576050309822287873</td>\n",
       "      <td>@OGloboPolitica Bolsonaro é tão fake, q até o ...</td>\n",
       "      <td>-1</td>\n",
       "      <td>Bolsonaro é tão fake, q até o laranja q ele l...</td>\n",
       "    </tr>\n",
       "    <tr>\n",
       "      <th>...</th>\n",
       "      <td>...</td>\n",
       "      <td>...</td>\n",
       "      <td>...</td>\n",
       "      <td>...</td>\n",
       "      <td>...</td>\n",
       "    </tr>\n",
       "    <tr>\n",
       "      <th>234</th>\n",
       "      <td>['1576039456552853504']</td>\n",
       "      <td>1576039456552853504</td>\n",
       "      <td>a pessoa não tem nem idade pra votar e ainda q...</td>\n",
       "      <td>-1</td>\n",
       "      <td>a pessoa não tem nem idade pra votar e ainda q...</td>\n",
       "    </tr>\n",
       "    <tr>\n",
       "      <th>235</th>\n",
       "      <td>['1576039448760156161']</td>\n",
       "      <td>1576039448760156161</td>\n",
       "      <td>A corrupção de Lula não causou estrago só no B...</td>\n",
       "      <td>-1</td>\n",
       "      <td>A corrupção de Lula não causou estrago só no B...</td>\n",
       "    </tr>\n",
       "    <tr>\n",
       "      <th>236</th>\n",
       "      <td>['1576039448093265920']</td>\n",
       "      <td>1576039448093265920</td>\n",
       "      <td>eu n aguento mais essa gnt falando de política...</td>\n",
       "      <td>-1</td>\n",
       "      <td>eu n aguento mais essa gnt falando de política...</td>\n",
       "    </tr>\n",
       "    <tr>\n",
       "      <th>237</th>\n",
       "      <td>['1576039446331281409']</td>\n",
       "      <td>1576039446331281409</td>\n",
       "      <td>@Emanuel_Jrz @jairbolsonaro @MariaFdaCabal O B...</td>\n",
       "      <td>1</td>\n",
       "      <td>O Brasil não quer mais essa gangue na polít...</td>\n",
       "    </tr>\n",
       "    <tr>\n",
       "      <th>238</th>\n",
       "      <td>['1576039441797623808']</td>\n",
       "      <td>1576039441797623808</td>\n",
       "      <td>As loira odonto de CP criticaram minha opinião...</td>\n",
       "      <td>-1</td>\n",
       "      <td>As loira odonto de CP criticaram minha opinião...</td>\n",
       "    </tr>\n",
       "  </tbody>\n",
       "</table>\n",
       "<p>239 rows × 5 columns</p>\n",
       "</div>"
      ],
      "text/plain": [
       "      edit_history_tweet_ids                   id  \\\n",
       "0    ['1576050330114363392']  1576050330114363392   \n",
       "1    ['1576050330110160901']  1576050330110160901   \n",
       "2    ['1576050318852640769']  1576050318852640769   \n",
       "3    ['1576050318596399104']  1576050318596399104   \n",
       "4    ['1576050309822287873']  1576050309822287873   \n",
       "..                       ...                  ...   \n",
       "234  ['1576039456552853504']  1576039456552853504   \n",
       "235  ['1576039448760156161']  1576039448760156161   \n",
       "236  ['1576039448093265920']  1576039448093265920   \n",
       "237  ['1576039446331281409']  1576039446331281409   \n",
       "238  ['1576039441797623808']  1576039441797623808   \n",
       "\n",
       "                                                  text  label  \\\n",
       "0    @joicehasselmann Bolsonaro NÃO quer aproveitad...     -1   \n",
       "1    o bolsonaro é um anjo enviado de deus para nos...      1   \n",
       "2    @AndradeRNegro2 @Loucosdovalle Bolsonaro é con...      1   \n",
       "3    @Victorrmsk É a milésima vez que ele fala ao v...      0   \n",
       "4    @OGloboPolitica Bolsonaro é tão fake, q até o ...     -1   \n",
       "..                                                 ...    ...   \n",
       "234  a pessoa não tem nem idade pra votar e ainda q...     -1   \n",
       "235  A corrupção de Lula não causou estrago só no B...     -1   \n",
       "236  eu n aguento mais essa gnt falando de política...     -1   \n",
       "237  @Emanuel_Jrz @jairbolsonaro @MariaFdaCabal O B...      1   \n",
       "238  As loira odonto de CP criticaram minha opinião...     -1   \n",
       "\n",
       "                                            clean_text  \n",
       "0         Bolsonaro NÃO quer aproveitadores como você.  \n",
       "1    o bolsonaro é um anjo enviado de deus para nos...  \n",
       "2      Bolsonaro é contra o aborto e defende a vida...  \n",
       "3     É a milésima vez que ele fala ao vivo que não...  \n",
       "4     Bolsonaro é tão fake, q até o laranja q ele l...  \n",
       "..                                                 ...  \n",
       "234  a pessoa não tem nem idade pra votar e ainda q...  \n",
       "235  A corrupção de Lula não causou estrago só no B...  \n",
       "236  eu n aguento mais essa gnt falando de política...  \n",
       "237     O Brasil não quer mais essa gangue na polít...  \n",
       "238  As loira odonto de CP criticaram minha opinião...  \n",
       "\n",
       "[239 rows x 5 columns]"
      ]
     },
     "execution_count": 2,
     "metadata": {},
     "output_type": "execute_result"
    }
   ],
   "source": [
    "df = pd.read_csv(\"data/concat.csv\")\n",
    "df"
   ]
  },
  {
   "cell_type": "code",
   "execution_count": 5,
   "metadata": {},
   "outputs": [
    {
     "data": {
      "text/plain": [
       "(162980, 2)"
      ]
     },
     "execution_count": 5,
     "metadata": {},
     "output_type": "execute_result"
    }
   ],
   "source": [
    "df.shape"
   ]
  },
  {
   "cell_type": "code",
   "execution_count": 6,
   "metadata": {},
   "outputs": [
    {
     "name": "stdout",
     "output_type": "stream",
     "text": [
      "<class 'pandas.core.frame.DataFrame'>\n",
      "RangeIndex: 162980 entries, 0 to 162979\n",
      "Data columns (total 2 columns):\n",
      " #   Column      Non-Null Count   Dtype  \n",
      "---  ------      --------------   -----  \n",
      " 0   clean_text  162976 non-null  object \n",
      " 1   category    162973 non-null  float64\n",
      "dtypes: float64(1), object(1)\n",
      "memory usage: 2.5+ MB\n"
     ]
    }
   ],
   "source": [
    "df.info()"
   ]
  },
  {
   "cell_type": "code",
   "execution_count": 7,
   "metadata": {},
   "outputs": [
    {
     "data": {
      "text/plain": [
       "clean_text    4\n",
       "category      7\n",
       "dtype: int64"
      ]
     },
     "execution_count": 7,
     "metadata": {},
     "output_type": "execute_result"
    }
   ],
   "source": [
    "#Check null elements\n",
    "\n",
    "df.isnull().sum()"
   ]
  },
  {
   "cell_type": "code",
   "execution_count": 8,
   "metadata": {},
   "outputs": [
    {
     "data": {
      "text/plain": [
       "1"
      ]
     },
     "execution_count": 8,
     "metadata": {},
     "output_type": "execute_result"
    }
   ],
   "source": [
    "# Check duplicate rows\n",
    "\n",
    "len(df)-len(df.drop_duplicates())"
   ]
  },
  {
   "cell_type": "code",
   "execution_count": 9,
   "metadata": {},
   "outputs": [
    {
     "data": {
      "text/html": [
       "<div>\n",
       "<style scoped>\n",
       "    .dataframe tbody tr th:only-of-type {\n",
       "        vertical-align: middle;\n",
       "    }\n",
       "\n",
       "    .dataframe tbody tr th {\n",
       "        vertical-align: top;\n",
       "    }\n",
       "\n",
       "    .dataframe thead th {\n",
       "        text-align: right;\n",
       "    }\n",
       "</style>\n",
       "<table border=\"1\" class=\"dataframe\">\n",
       "  <thead>\n",
       "    <tr style=\"text-align: right;\">\n",
       "      <th></th>\n",
       "      <th>clean_text</th>\n",
       "      <th>category</th>\n",
       "      <th>num_words</th>\n",
       "    </tr>\n",
       "  </thead>\n",
       "  <tbody>\n",
       "    <tr>\n",
       "      <th>0</th>\n",
       "      <td>when modi promised “minimum government maximum...</td>\n",
       "      <td>-1.0</td>\n",
       "      <td>33.0</td>\n",
       "    </tr>\n",
       "    <tr>\n",
       "      <th>1</th>\n",
       "      <td>talk all the nonsense and continue all the dra...</td>\n",
       "      <td>0.0</td>\n",
       "      <td>13.0</td>\n",
       "    </tr>\n",
       "    <tr>\n",
       "      <th>2</th>\n",
       "      <td>what did just say vote for modi  welcome bjp t...</td>\n",
       "      <td>1.0</td>\n",
       "      <td>22.0</td>\n",
       "    </tr>\n",
       "    <tr>\n",
       "      <th>3</th>\n",
       "      <td>asking his supporters prefix chowkidar their n...</td>\n",
       "      <td>1.0</td>\n",
       "      <td>34.0</td>\n",
       "    </tr>\n",
       "    <tr>\n",
       "      <th>4</th>\n",
       "      <td>answer who among these the most powerful world...</td>\n",
       "      <td>1.0</td>\n",
       "      <td>14.0</td>\n",
       "    </tr>\n",
       "  </tbody>\n",
       "</table>\n",
       "</div>"
      ],
      "text/plain": [
       "                                          clean_text  category  num_words\n",
       "0  when modi promised “minimum government maximum...      -1.0       33.0\n",
       "1  talk all the nonsense and continue all the dra...       0.0       13.0\n",
       "2  what did just say vote for modi  welcome bjp t...       1.0       22.0\n",
       "3  asking his supporters prefix chowkidar their n...       1.0       34.0\n",
       "4  answer who among these the most powerful world...       1.0       14.0"
      ]
     },
     "execution_count": 9,
     "metadata": {},
     "output_type": "execute_result"
    }
   ],
   "source": [
    "count = df['clean_text'].str.split().str.len()\n",
    "df['num_words'] = count\n",
    "df.head()"
   ]
  },
  {
   "cell_type": "code",
   "execution_count": 10,
   "metadata": {},
   "outputs": [
    {
     "data": {
      "text/plain": [
       "52.0"
      ]
     },
     "execution_count": 10,
     "metadata": {},
     "output_type": "execute_result"
    }
   ],
   "source": [
    "# Get max number of words in dataset\n",
    "\n",
    "df['num_words'].max()"
   ]
  },
  {
   "cell_type": "code",
   "execution_count": 11,
   "metadata": {},
   "outputs": [
    {
     "name": "stderr",
     "output_type": "stream",
     "text": [
      "c:\\Users\\mathe\\anaconda3\\lib\\site-packages\\seaborn\\_decorators.py:36: FutureWarning: Pass the following variable as a keyword arg: x. From version 0.12, the only valid positional argument will be `data`, and passing other arguments without an explicit keyword will result in an error or misinterpretation.\n",
      "  warnings.warn(\n"
     ]
    },
    {
     "data": {
      "text/plain": [
       "Text(0.5, 0, 'Category')"
      ]
     },
     "execution_count": 11,
     "metadata": {},
     "output_type": "execute_result"
    },
    {
     "data": {
      "image/png": "[encoded data removed]",
      "text/plain": [
       "<Figure size 432x288 with 1 Axes>"
      ]
     },
     "metadata": {
      "needs_background": "light"
     },
     "output_type": "display_data"
    }
   ],
   "source": [
    "# Distribution of score data\n",
    "\n",
    "sns.countplot(df['category'])\n",
    "plt.xlabel('Category')"
   ]
  }
 ],
 "metadata": {
  "kernelspec": {
   "display_name": "Python 3.9.7 ('base')",
   "language": "python",
   "name": "python3"
  },
  "language_info": {
   "codemirror_mode": {
    "name": "ipython",
    "version": 3
   },
   "file_extension": ".py",
   "mimetype": "text/x-python",
   "name": "python",
   "nbconvert_exporter": "python",
   "pygments_lexer": "ipython3",
   "version": "3.9.13"
  },
  "orig_nbformat": 4,
  "vscode": {
   "interpreter": {
    "hash": "d674aba619e9128d5d95f68874c090de0e48b8e67c1ba838c5d294b8a6cf0663"
   }
  }
 },
 "nbformat": 4,
 "nbformat_minor": 2
}
